{
 "cells": [
  {
   "cell_type": "markdown",
   "metadata": {},
   "source": [
    "## What's different between Conv1D and Conv2D\n",
    "\n",
    "This 1d convolution is cost saver, it work in the same way but assume a 1 dimension array that makes a multiplication with the elements. If you want to visualize think of a matrix of either row or columns i.e a single dimension when we multiplies we get an array of same shape but of lower or higher values, thus it helps in maximizing or minimizing the intensity of values.\n",
    "\n",
    "---\n",
    "\n",
    "tf.layers.conv1d is used when you slide your convolution kernels along 1 dimensions (i.e. you reuse the same weights, sliding them along 1 dimensions), whereas tf.layers.conv2d is used when you slide your convolution kernels along 2 dimensions (i.e. you reuse the same weights, sliding them along 2 dimensions).\n",
    "\n",
    "So the typical use case for tf.layers.conv2d is if you have a 2D image. And possible use-cases for  tf.layers.conv1d are, for example:\n",
    "\n",
    "Convolutions in Time\n",
    "Convolutions on Piano notes\n",
    "\n",
    "---\n",
    "\n",
    "Why keras text classification examples are using Conv1D instead of Conv2D?\n",
    "(https://github.com/keras-team/keras/blob/master/examples/imdb_cnn.py)\n",
    "\n",
    "--\n",
    "\n",
    "Conv1D takes care of neighboring words. A filter length of 5 would imply a context window of 5 words, i.e, the word embeddings of 5 words, not 5 elements within a single embedding. Images have height and width, so we use conv2d, sentences are linear lists of words, so conv1d. The \"2d\" or \"3d\" specifies how we loop through the matrix; its not the rank of the convolution kernel itself.\n",
    "\n",
    "--\n",
    "\n",
    "https://stackoverflow.com/questions/42883547/what-do-you-mean-by-1d-2d-and-3d-convolutions-in-cnn"
   ]
  },
  {
   "cell_type": "markdown",
   "metadata": {},
   "source": [
    "reshape for Conv1D\n",
    "\n",
    "td; lr you need to reshape you data to have a spatial dimension for Conv1d to make sense:\n",
    "\n",
    "```python\n",
    "X = np.expand_dims(X, axis=2) # reshape (569, 30) to (569, 30, 1) \n",
    "# now input can be set as \n",
    "model.add(Conv1D(2,2,activation='relu',input_shape=(30, 1))\n",
    "```\n",
    "\n",
    "Essentially reshaping a dataset that looks like this:\n",
    "\n",
    "```python\n",
    "features    \n",
    ".8, .1, .3  \n",
    ".2, .4, .6  \n",
    ".7, .2, .1  \n",
    "```\n",
    "\n",
    "to \n",
    "\n",
    "```python\n",
    "[[.8\n",
    ".1\n",
    ".3],\n",
    "\n",
    "[.2,\n",
    " .4,\n",
    " .6\n",
    " ],\n",
    "\n",
    "[.3,\n",
    " .6\n",
    " .1]]\n",
    " ```\n",
    " "
   ]
  },
  {
   "cell_type": "markdown",
   "metadata": {},
   "source": [
    "## Explanation and examples\n",
    "\n",
    "Normally convolution works over spatial dimensions. Kernel is \"convolved\" over the dimension producing a tensor. In the case of Conv1D, the kernel is passed of over the 'steps' dimension of every example.\n",
    "\n",
    "You will see Conv1D used for in NLP where the steps is number of words in the sentence (padded to some fixed maximum length). The words would might be encoded as vectors of length 4.\n",
    "\n",
    "Here is an example sentence:"
   ]
  },
  {
   "cell_type": "code",
   "execution_count": null,
   "metadata": {},
   "outputs": [],
   "source": []
  },
  {
   "cell_type": "markdown",
   "metadata": {},
   "source": [
    "## Links to see\n",
    "\n",
    "[Spell Out Convolution 1D (in CNN's)](http://www.jussihuotari.com/2017/12/20/spell-out-convolution-1d-in-cnns/) by Jussi Huotari\n",
    "\n",
    "[Python keras.layers.Conv1D() '50' Examples](https://www.programcreek.com/python/example/89676/keras.layers.Conv1D) @ programcreek\n",
    "\n",
    "[Dimension of shape in conv1D](https://stackoverflow.com/questions/43396572/dimension-of-shape-in-conv1d) Q&A @ stack overflow\n",
    "\n",
    "[What do you mean by 1D, 2D and 3D comvolutions in CNN?](https://stackoverflow.com/questions/42883547/what-do-you-mean-by-1d-2d-and-3d-convolutions-in-cnn) Q&A @ stack overflow"
   ]
  },
  {
   "cell_type": "code",
   "execution_count": null,
   "metadata": {},
   "outputs": [],
   "source": []
  }
 ],
 "metadata": {
  "kernelspec": {
   "display_name": "Python 3",
   "language": "python",
   "name": "python3"
  },
  "language_info": {
   "codemirror_mode": {
    "name": "ipython",
    "version": 3
   },
   "file_extension": ".py",
   "mimetype": "text/x-python",
   "name": "python",
   "nbconvert_exporter": "python",
   "pygments_lexer": "ipython3",
   "version": "3.5.5"
  }
 },
 "nbformat": 4,
 "nbformat_minor": 2
}
