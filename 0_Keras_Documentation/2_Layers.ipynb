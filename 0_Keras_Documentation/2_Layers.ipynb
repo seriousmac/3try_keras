{
 "cells": [
  {
   "cell_type": "markdown",
   "metadata": {},
   "source": [
    "### About Keras layers\n",
    "\n",
    "```python\n",
    "layer.get_weights()\n",
    "```\n",
    ":returns the wiehgts of the layer as a list of Numpy arrays.\n",
    "\n",
    "```python\n",
    "later.set_weights(weights)\n",
    "```\n",
    ":sets the weights of the layer from a list of Numpy arrays (with the same shapes as the output of get_weights)\n",
    "\n",
    "```python\n",
    "layer.get_config()\n",
    "```\n",
    ":returns a dictionary containing the configuration of the layer. The layer can be reinstantiated from its config via:\n",
    "```python\n",
    "layer = Dense(32)\n",
    "config = layer.get_config()\n",
    "reconstructed_layer = Dense.from_config(config)\n",
    "```\n",
    "or\n",
    "```python\n",
    "from keras import layers\n",
    "config = layer.get_config()\n",
    "layer = layers.deserialized({'class_name': layer.__class__.__name__,\n",
    "                             'config': config})\n",
    "```"
   ]
  },
  {
   "cell_type": "markdown",
   "metadata": {},
   "source": [
    "_____\n",
    "### Dense\n",
    "\n",
    "regular densely-connectted NN layer\n",
    "\n",
    "```python\n",
    "keras.layers.Dense(units, activation=None, use_bias=True, kernel_initializer='glorot_uniform', bias_initializer='zeros', kernel_regularizer=None, bias_regularizer=None, activity_regularizer=None, kernel_constraint=None, bias_constraint=None)\n",
    "```\n",
    "\n",
    "Dense imporments the operation: **output = activation(dot(input, kernel) + bias)**\n",
    "\n",
    "- where activation is the element-wise activation function passed as the activation argument\n",
    "- kernel is weights matrix created by the layer\n",
    "- bias is a bias vector created vy the layer (only applicable if use_bias is True)"
   ]
  },
  {
   "cell_type": "code",
   "execution_count": 2,
   "metadata": {},
   "outputs": [],
   "source": [
    "from keras.models import Sequential\n",
    "from keras.layers import Dense\n",
    "\n",
    "# as first layer in a sequential model:\n",
    "model = Sequential()\n",
    "model.add(Dense(32, input_shape=(16,)))\n",
    "# now the model will take as input arrays of shape (*, 16)\n",
    "# and output arrays of shape (*, 32)\n",
    "\n",
    "# after the first layer, you don't need to specify\n",
    "# the size of the input anymore:\n",
    "model.add(Dense(32))"
   ]
  },
  {
   "cell_type": "markdown",
   "metadata": {},
   "source": [
    "- Input shape\n",
    "\n",
    "  - nD tensor with shape: (batch_size, ..., input_dim). The most common situation would be a 2D input with shape (batch_size, input_dim).\n",
    "\n",
    "- Output shape\n",
    "\n",
    "  - nD tensor with shape: (batch_size, ..., units). For instance, for a 2D input with shape  (batch_size, input_dim), the output would have shape (batch_size, units)."
   ]
  },
  {
   "cell_type": "markdown",
   "metadata": {},
   "source": [
    "_____\n",
    "### Activation\n",
    "\n",
    "activation: name of activation function to use (softmax, elu, selu, softplus, softsign, relu, tanh, sigmoid, hard_sigmoid, linear), or alternatively, a Theano or TensorFlow operation.\n",
    "\n",
    "- Input shape\n",
    "\n",
    "  - Arbitrary. Use the keyword argument input_shape (tuple of integers, does not include the samples axis) when using this layer as the first layer in a model.\n",
    "\n",
    "- Output shape\n",
    "\n",
    "  - Same shape as input."
   ]
  },
  {
   "cell_type": "code",
   "execution_count": 3,
   "metadata": {},
   "outputs": [
    {
     "data": {
      "text/plain": [
       "<keras.layers.core.Activation at 0x7fc8f893c9e8>"
      ]
     },
     "execution_count": 3,
     "metadata": {},
     "output_type": "execute_result"
    }
   ],
   "source": [
    "from keras.layers import Activation\n",
    "\n",
    "Activation('relu')"
   ]
  },
  {
   "cell_type": "markdown",
   "metadata": {},
   "source": [
    "_____\n",
    "### Dropout\n",
    "\n",
    "- Arguments\n",
    "\n",
    "  - rate: float between 0 and 1. Fraction of the input units to drop.\n",
    "\n",
    "  - noise_shape: 1D integer tensor representing the shape of the binary dropout mask that will be multiplied with the input. For instance, if your inputs have shape  (batch_size, timesteps, features) and you want the dropout mask to be the same for all timesteps, you can use noise_shape=(batch_size, 1, features).\n",
    "\n",
    "  - seed: A Python integer to use as random seed."
   ]
  },
  {
   "cell_type": "code",
   "execution_count": 4,
   "metadata": {},
   "outputs": [
    {
     "data": {
      "text/plain": [
       "<keras.layers.core.Dropout at 0x7fc8f8863e80>"
      ]
     },
     "execution_count": 4,
     "metadata": {},
     "output_type": "execute_result"
    }
   ],
   "source": [
    "from keras.layers import Dropout\n",
    "Dropout(0.5, noise_shape=None, seed=None)"
   ]
  },
  {
   "cell_type": "markdown",
   "metadata": {},
   "source": [
    "_____\n",
    "### Flatten\n",
    "\n",
    "- data_format: A string, one of channels_last (default) or channels_first. The ordering of the dimensions in the inputs. \n",
    "\n",
    "  - to preserve weight ordering when switching a model from one data format to another.\n",
    "  - channels_last corresponds to inputs with shape  (batch, ..., channels)\n",
    "  - channels_first corresponds to inputs with shape (batch, channels, ...)\n",
    "  - It defaults to the image_data_format value found in your Keras config file at  ~/.keras/keras.json. If you never set it, then it will be \"channels_last\"."
   ]
  },
  {
   "cell_type": "code",
   "execution_count": 5,
   "metadata": {},
   "outputs": [],
   "source": [
    "import sys\n",
    "from keras.layers import Flatten\n",
    "from keras.layers import Conv2D\n",
    "\n",
    "model = Sequential()\n",
    "model.add(Conv2D(64, (3, 3),\n",
    "                 #border_mode='same',\n",
    "                 input_shape=(3, 32, 32), padding='same'))\n",
    "# now: model.output_shape == (None, 64, 32, 32)\n",
    "\n",
    "model.add(Flatten())\n",
    "# now: model.output_shape == (None, 65536)"
   ]
  },
  {
   "cell_type": "markdown",
   "metadata": {},
   "source": [
    "keras documentation의 코드에는\n",
    "```python\n",
    "model = Sequential()\n",
    "model.add(Conv2D(64, 3, 3,\n",
    "                 border_mode='same',\n",
    "                 input_shape=(3, 32, 32)))\n",
    "'# now: model.output_shape == (None, 64, 32, 32)\n",
    "\n",
    "model.add(Flatten())\n",
    "'# now: model.output_shape == (None, 65536)\n",
    "```\n",
    "이라고 작성되어있음.\n",
    "\n",
    "하지만 아래와 같은 오류메세지를 만나게됨.\n",
    "\n",
    "```\n",
    "~/ipykernel_launcher.py:4: UserWarning: Update your `Conv2D` call to the Keras 2 API: `Conv2D(64, (3, 3), input_shape=(3, 32, 32..., padding=\"same\")`\n",
    "  after removing the cwd from sys.path.\n",
    "```\n",
    "\n",
    "위의 코드와 같이 수정하면 됨! edit on gitHub을 시도해봄!"
   ]
  },
  {
   "cell_type": "markdown",
   "metadata": {},
   "source": [
    "_____\n",
    "### Input\n",
    "\n",
    "- Arguments\n",
    "  - shape: A shape tuple (integer), not including the batch size. For instance, shape=(32,) indicates that the expected input will be batches of 32-dimensional vectors.\n",
    "  - batch_shape: A shape tuple (integer), including the batch size. For instance, batch_shape=(10, 32) indicates that the expected input will be batches of 10 32-dimensional vectors.  batch_shape=(None, 32) indicates batches of an arbitrary number of 32-dimensional vectors.\n",
    "  - name: An optional name string for the layer. Should be unique in a model (do not reuse the same name twice). It will be autogenerated if it isn't provided.\n",
    "  - dtype: The data type expected by the input, as a string (float32, float64, int32...)\n",
    "  - sparse: A boolean specifying whether the placeholder to be created is sparse.\n",
    "  - tensor: Optional existing tensor to wrap into the Input layer. If set, the layer will not create a placeholder tensor.\n",
    "- Returns\n",
    "  - A tensor."
   ]
  },
  {
   "cell_type": "code",
   "execution_count": 42,
   "metadata": {},
   "outputs": [],
   "source": [
    "from keras.models import Model\n",
    "from keras.layers import Input\n",
    "\n",
    "# this is a logistic regression in Keras\n",
    "x = Input(shape=(32,))\n",
    "y = Dense(16, activation='softmax')(x)\n",
    "model = Model(x, y)"
   ]
  },
  {
   "cell_type": "markdown",
   "metadata": {},
   "source": [
    "_____\n",
    "### Reshape\n",
    "\n",
    "Reshapes an output to a certain shape.\n",
    "\n",
    "- Arguments\n",
    "  - target_shape: target shape. Tuple of integers. Does not include the batch axis.\n",
    "- Input shape\n",
    "  - Arbitrary, although all dimensions in the input shaped must be fixed. Use the keyword argument input_shape (tuple of integers, does not include the batch axis) when using this layer as the first layer in a model.\n",
    "\n",
    "- Output shape\n",
    "  - (batch_size,) + target_shape\n",
    "  \n",
    "```python\n",
    "from keras.layers import Reshape\n",
    "\n",
    "# as first layer in a Sequential model\n",
    "model = Sequential()\n",
    "model.add(Reshape((3, 4), input_shape=(12,)))\n",
    "# now: model.output_shape == (None, 3, 4)\n",
    "# note: `None` is the batch dimension\n",
    "\n",
    "# as intermediate layer in a Sequential model\n",
    "model.add(Reshape((6, 2)))\n",
    "# now: model.output_shape == (None, 6, 2)\n",
    "\n",
    "# also supports shape inference using `-1` as dimension\n",
    "model.add(Reshape((-1, 2, 2)))\n",
    "# now: model.output_shape == (None, 3, 2, 2)\n",
    "```"
   ]
  },
  {
   "cell_type": "markdown",
   "metadata": {},
   "source": [
    "_____\n",
    "### Permute\n",
    "\n",
    "Permutes the dimensions of the input according to a given pattern.\n",
    "\n",
    "Useful for e.g. connecting RNNs and convnets together.\n",
    "\n",
    "- Arguments\n",
    "\n",
    "  - dims: Tuple of integers. Permutation pattern, does not include the samples dimension. Indexing starts at 1. For instance,  (2, 1) permutes the first and second dimension of the input.\n",
    "\n",
    "- Input shape\n",
    "\n",
    "  - Arbitrary. Use the keyword argument input_shape (tuple of integers, does not include the samples axis) when using this layer as the first layer in a model.\n",
    "\n",
    "- Output shape\n",
    "\n",
    "  - Same as the input shape, but with the dimensions re-ordered according to the specified pattern.\n",
    "  \n",
    "```python\n",
    "from keras.layers import Permute\n",
    "model = Sequential()\n",
    "model.add(Permute((2, 1), input_shape=(10, 64)))\n",
    "# now: model.output_shape == (None, 64, 10)\n",
    "# note: `None` is the batch dimension\n",
    "```"
   ]
  },
  {
   "cell_type": "markdown",
   "metadata": {},
   "source": [
    "_____\n",
    "### ActivityRegularization\n",
    "\n",
    "Layer that applies an update to the cost function based input activity.\n",
    "\n",
    "- Arguments\n",
    "\n",
    "  - l1: L1 regularization factor (positive float).\n",
    "  - l2: L2 regularization factor (positive float).\n",
    "\n",
    "- Input shape\n",
    "\n",
    "  - Arbitrary. Use the keyword argument input_shape (tuple of integers, does not include the samples axis) when using this layer as the first layer in a model.\n",
    "\n",
    "- Output shape\n",
    "\n",
    "  - Same shape as input.\n"
   ]
  },
  {
   "cell_type": "code",
   "execution_count": 55,
   "metadata": {},
   "outputs": [
    {
     "data": {
      "text/plain": [
       "<keras.layers.core.ActivityRegularization at 0x7fc60f3df4e0>"
      ]
     },
     "execution_count": 55,
     "metadata": {},
     "output_type": "execute_result"
    }
   ],
   "source": [
    "from keras.layers import ActivityRegularization\n",
    "ActivityRegularization(l1=0.0, l2=0.0)"
   ]
  }
 ],
 "metadata": {
  "kernelspec": {
   "display_name": "Python 3",
   "language": "python",
   "name": "python3"
  },
  "language_info": {
   "codemirror_mode": {
    "name": "ipython",
    "version": 3
   },
   "file_extension": ".py",
   "mimetype": "text/x-python",
   "name": "python",
   "nbconvert_exporter": "python",
   "pygments_lexer": "ipython3",
   "version": "3.5.5"
  }
 },
 "nbformat": 4,
 "nbformat_minor": 2
}
