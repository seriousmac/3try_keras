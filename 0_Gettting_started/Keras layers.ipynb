{
 "cells": [
  {
   "cell_type": "markdown",
   "metadata": {},
   "source": [
    "### About Keras layers\n",
    "\n",
    "```python\n",
    "layer.get_weights()\n",
    "```\n",
    ":returns the wiehgts of the layer as a list of Numpy arrays.\n",
    "\n",
    "```python\n",
    "later.set_weights(weights)\n",
    "```\n",
    ":sets the weights of the layer from a list of Numpy arrays (with the same shapes as the output of get_weights)\n",
    "\n",
    "```python\n",
    "layer.get_config()\n",
    "```\n",
    ":returns a dictionary containing the configuration of the layer. The layer can be reinstantiated from its config via:\n",
    "```python\n",
    "layer = Dense(32)\n",
    "config = layer.get_config()\n",
    "reconstructed_layer = Dense.from_config(config)\n",
    "```\n",
    "or\n",
    "```python\n",
    "from keras import layers\n",
    "config = layer.get_config()\n",
    "layer = layers.deserialized({'class_name': layer.__class__.__name__,\n",
    "                             'config': config})\n",
    "```"
   ]
  },
  {
   "cell_type": "markdown",
   "metadata": {},
   "source": [
    "\n",
    "### Dense\n",
    "\n",
    "regular densely-connectted NN layer\n",
    "\n",
    "```python\n",
    "keras.layers.Dense(units, activation=None, use_bias=True, kernel_initializer='glorot_uniform', bias_initializer='zeros', kernel_regularizer=None, bias_regularizer=None, activity_regularizer=None, kernel_constraint=None, bias_constraint=None)\n",
    "```\n",
    "\n",
    "Dense imporments the operation: output = activation(dot(input, kernel) + bias)\n",
    "\n",
    "- where activation is the element-wise activation function passed as the activation argument\n",
    "- kernel is weights matrix created by the layer\n",
    "- bias is a bias vector created vy the layer (only applicable if use_bias is True)"
   ]
  },
  {
   "cell_type": "code",
   "execution_count": 6,
   "metadata": {},
   "outputs": [],
   "source": [
    "from keras.models import Sequential\n",
    "from keras.layers import Dense\n",
    "\n",
    "# as first layer in a sequential model:\n",
    "model = Sequential()\n",
    "model.add(Dense(32, input_shape=(16,)))\n",
    "# now the model will take as input arrays of shape (*, 16)\n",
    "# and output arrays of shape (*, 32)\n",
    "\n",
    "# after the first layer, you don't need to specify\n",
    "# the size of the input anymore:\n",
    "model.add(Dense(32))"
   ]
  },
  {
   "cell_type": "code",
   "execution_count": null,
   "metadata": {},
   "outputs": [],
   "source": []
  }
 ],
 "metadata": {
  "kernelspec": {
   "display_name": "Python 3",
   "language": "python",
   "name": "python3"
  },
  "language_info": {
   "codemirror_mode": {
    "name": "ipython",
    "version": 3
   },
   "file_extension": ".py",
   "mimetype": "text/x-python",
   "name": "python",
   "nbconvert_exporter": "python",
   "pygments_lexer": "ipython3",
   "version": "3.5.5"
  }
 },
 "nbformat": 4,
 "nbformat_minor": 2
}
