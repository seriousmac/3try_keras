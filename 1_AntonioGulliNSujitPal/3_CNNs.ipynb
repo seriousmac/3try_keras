{
 "cells": [
  {
   "cell_type": "markdown",
   "metadata": {},
   "source": [
    "## Intro \n",
    "\n",
    "- Dense로 할 수 있는 걸 왜 CNN으로 하나?\n",
    "\n",
    "#### Dense는 이미지의 공간 구조나 관계 정보를 활용하지 않는다.\n",
    "\n",
    "```python\n",
    "#X_train은 60000개 행의 28 x 28 값으로, 60000 x 784 형태로 변환한다.\n",
    "X_train = X_train.reshaped(60000, 784)\n",
    "X_test = X_test.reshape(10000, 784)\n",
    "```\n",
    "\n",
    "위의 코드는 각각의 손글씨 숫자를 나타내는 비트맵을 공간 정보가 없는 평평한 벡터로 변환한다.\n",
    "\n",
    "- CNN(ConvNet)은 공간 정보를 활용하기 때문에 이미지 분류에 아주 적합하다.\n",
    "\n",
    "- 여러 피질 단계 -> 점점 더 구조화된 정보를 인식 -> 단일 픽셀 -> 단순한 기하학적 형태 인식 -> 물체, 얼굴, 인체, 동물 등 인식\n",
    "\n",
    "---"
   ]
  },
  {
   "cell_type": "markdown",
   "metadata": {},
   "source": [
    "## DCNN\n",
    "\n",
    "(Dep Convolutional Neural Network)\n",
    "\n",
    "- 합성곱과 풀링의 계층을 번갈아가며 사용한다.\n",
    "- 각 필터의 깊이는 왼쪽에서 오른쪽으로 갈수록 깊어진다.\n",
    "- 마지막 단계는 일반적으로 하나 이상의 완전 연결 계층으로 구성한다.\n",
    "\n",
    "### Local receptive fields\n",
    "\n",
    "- 합성곱(Convolution)\n",
    "  - 인접한 입력 뉴런의 부분 행렬들을 다음 계층에 있는 한 개의 은닉 뉴런으로 연결 <br/>\n",
    "  - 이 한 개의 은닉 뉴런이 하나의 Local recptive field를 나타냄\n",
    "  - 스트라이드 길이(stride lenght)\n",
    "  - <strike>부분 행렬의 크기</strike><br/>\n",
    "    (이 부분에 대해서는 책이 모호한 것 같다. 내가 알고 있는 개념 명확하게 일치하지 않음.)\n",
    "  \n",
    "### Shared weights와 Shared biases\n",
    "\n",
    "- Model은 Training 과정에서 shared weights와 biases를 학습하고 각각의 새로운 학습 예제로 지속적으로 업데이트\n",
    "- 각 계층에서 이미지의 위치와 상관없이 특징들을 학습하기 위해서 \"shared\" weight와 biases를 사용\n",
    "\n",
    "- Example\n",
    "  - 3개의 채널, (256, 256)의 입력 이미지는\n",
    "    - tensorflow에서는, (256, 256, 3), (채널을 나타내는) 차원(깊이) index = 3\n",
    "    - theano에서는, 차원(깊이) = 1\n",
    "    ```python\n",
    "model = Sequential()\n",
    "model.add(Conv2D(32, (3, 3), input_shape = (256, 256, 3))\n",
    "    ```\n",
    "    ```python\n",
    "model = Sequential()\n",
    "model.add(Conv2D(32, kernel_size=3, input_shape = (256, 256, 3))\n",
    "    ```\n",
    "    (위의 두 코드는 동일, kernel_size를 다른 방법으로 작성한 것 뿐)\n",
    "    \n",
    "### Pooling layer\n",
    "\n",
    "- 공간 인접성을 활용해 부분 행렬 값들을 물리적인 지역에 관련된 의미로 설명하는 하나의 출력 값으로 결합\n",
    "- <strike>overfitting을 방지하는 걸로도 알고 있었는데...)</strike>\n",
    "\n",
    "- Max-pooling\n",
    "  - 특정 지역에서 관찰한 최대 활성화를 출력\n",
    "  - 예제\n",
    "    - model.add(MaxPooling2D(pool_size = (2, ))"
   ]
  },
  {
   "cell_type": "code",
   "execution_count": null,
   "metadata": {},
   "outputs": [],
   "source": []
  }
 ],
 "metadata": {
  "kernelspec": {
   "display_name": "Python 3",
   "language": "python",
   "name": "python3"
  },
  "language_info": {
   "codemirror_mode": {
    "name": "ipython",
    "version": 3
   },
   "file_extension": ".py",
   "mimetype": "text/x-python",
   "name": "python",
   "nbconvert_exporter": "python",
   "pygments_lexer": "ipython3",
   "version": "3.5.5"
  }
 },
 "nbformat": 4,
 "nbformat_minor": 2
}
